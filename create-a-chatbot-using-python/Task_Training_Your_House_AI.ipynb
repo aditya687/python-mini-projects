{
  "nbformat": 4,
  "nbformat_minor": 0,
  "metadata": {
    "colab": {
      "name": "Task: Training Your House AI.ipynb",
      "provenance": []
    },
    "kernelspec": {
      "name": "python3",
      "display_name": "Python 3"
    },
    "language_info": {
      "name": "python"
    }
  },
  "cells": [
    {
      "cell_type": "markdown",
      "metadata": {
        "id": "mxKPYN40ieVF"
      },
      "source": [
        "## Task: Training Your House AI"
      ]
    },
    {
      "cell_type": "markdown",
      "metadata": {
        "id": "pmhhlG2JjFrc"
      },
      "source": [
        "**# Task: Training Your House AI\n",
        "Let's combine rule-based AI and machine learning to build a complex AI.\n",
        "\n",
        "We'll cover thefollowing\n",
        "\n",
        "Problem\n",
        "Task 1: security check\n",
        "Task 2: training custom data\n",
        "Code\n",
        "Problem #\n",
        "You just bought Jordan, the smartest AI in the world, for your house. Now you have to set it up for use.\n",
        "\n",
        "Your task is to train Jordan with all of the world’s information and then to train it with your personal information for restricted access.\n",
        "\n",
        "To prevent unauthenticated access to your house, only two people are allowed to access Jordan: you and another trustworthy person in your life, which can be anyone from your friends and family.\n",
        "\n",
        "To protect your personal information, only you will have access to your personal information.\n",
        "\n",
        "Task 1: security check #\n",
        "Your first task is to enter the identity of a person and respond accordingly based on the permissions you give Jordan. We will be using the name of one person, Mark, and a trustworthy friend, Jane.\n",
        "\n",
        "Here are the two scenarios that need to be checked:\n",
        "\n",
        "If it is Mark, you have to respond with the following and continue with the program:\n",
        "Welcome, Mark. Happy to have you at home.\n",
        "If it is Jane, you have to respond with the following and continue with the program:\n",
        "Mark is out right now, but you are welcome to the house.\n",
        "If it is none of the above, you have to respond with the following and exit the program:\n",
        "Your access is denied here. \n",
        "You can exit the program using the exit() command. To get you started with the activity, here is a hint.\n",
        "\n",
        "Show Hint\n",
        "Task 2: training custom data #\n",
        "Once the bot has identified you, you will train the bot with the following personal information about you. The blanks contain your personal information.\n",
        "\n",
        "Where was I born?\n",
        "You were born in ___________.\n",
        "\n",
        "What is my favorite book?\n",
        "That is easy. Your favourite book is __________.\n",
        "\n",
        "What is my favorite movie?\n",
        "You have watched ___________ more times than I can count.\n",
        "\n",
        "What is my favorite sport?\n",
        "You have always loved ___________** "
      ]
    },
    {
      "cell_type": "code",
      "metadata": {
        "id": "z39lfdfJicVA"
      },
      "source": [
        ""
      ],
      "execution_count": null,
      "outputs": []
    }
  ]
}
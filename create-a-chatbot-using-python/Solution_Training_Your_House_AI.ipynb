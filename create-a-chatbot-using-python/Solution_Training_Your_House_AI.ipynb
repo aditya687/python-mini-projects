{
  "nbformat": 4,
  "nbformat_minor": 0,
  "metadata": {
    "colab": {
      "name": "Solution: Training Your House AI.ipynb",
      "provenance": []
    },
    "kernelspec": {
      "name": "python3",
      "display_name": "Python 3"
    },
    "language_info": {
      "name": "python"
    }
  },
  "cells": [
    {
      "cell_type": "code",
      "metadata": {
        "colab": {
          "base_uri": "https://localhost:8080/"
        },
        "id": "95znqyCimhfr",
        "outputId": "87c54b04-380e-4321-ba9b-599cf3e590b7"
      },
      "source": [
        "pip install chatterbot"
      ],
      "execution_count": null,
      "outputs": [
        {
          "output_type": "stream",
          "text": [
            "Collecting chatterbot\n",
            "\u001b[?25l  Downloading https://files.pythonhosted.org/packages/7c/21/85c2b114bd9dfabdd46ba58fc4519acdaed45d8c70898d40079e37a45e67/ChatterBot-1.0.8-py2.py3-none-any.whl (63kB)\n",
            "\r\u001b[K     |█████▏                          | 10kB 21.2MB/s eta 0:00:01\r\u001b[K     |██████████▎                     | 20kB 15.2MB/s eta 0:00:01\r\u001b[K     |███████████████▌                | 30kB 13.4MB/s eta 0:00:01\r\u001b[K     |████████████████████▋           | 40kB 12.2MB/s eta 0:00:01\r\u001b[K     |█████████████████████████▊      | 51kB 9.0MB/s eta 0:00:01\r\u001b[K     |███████████████████████████████ | 61kB 9.3MB/s eta 0:00:01\r\u001b[K     |████████████████████████████████| 71kB 5.8MB/s \n",
            "\u001b[?25hRequirement already satisfied: pytz in /usr/local/lib/python3.7/dist-packages (from chatterbot) (2018.9)\n",
            "Requirement already satisfied: python-dateutil<2.9,>=2.8 in /usr/local/lib/python3.7/dist-packages (from chatterbot) (2.8.1)\n",
            "Collecting sqlalchemy<1.4,>=1.3\n",
            "\u001b[?25l  Downloading https://files.pythonhosted.org/packages/31/44/a86070dda790ce94cd7d9fb9281cd614c7d30850ed774ace9a84d0d5d491/SQLAlchemy-1.3.24-cp37-cp37m-manylinux2010_x86_64.whl (1.3MB)\n",
            "\u001b[K     |████████████████████████████████| 1.3MB 11.6MB/s \n",
            "\u001b[?25hCollecting mathparse<0.2,>=0.1\n",
            "  Downloading https://files.pythonhosted.org/packages/c3/e5/4910fb85950cb960fcf3f5aabe1c8e55f5c9201788a1c1302b570a7e1f84/mathparse-0.1.2-py3-none-any.whl\n",
            "Requirement already satisfied: six>=1.5 in /usr/local/lib/python3.7/dist-packages (from python-dateutil<2.9,>=2.8->chatterbot) (1.15.0)\n",
            "Installing collected packages: sqlalchemy, mathparse, chatterbot\n",
            "  Found existing installation: SQLAlchemy 1.4.7\n",
            "    Uninstalling SQLAlchemy-1.4.7:\n",
            "      Successfully uninstalled SQLAlchemy-1.4.7\n",
            "Successfully installed chatterbot-1.0.8 mathparse-0.1.2 sqlalchemy-1.3.24\n"
          ],
          "name": "stdout"
        }
      ]
    },
    {
      "cell_type": "code",
      "metadata": {
        "colab": {
          "base_uri": "https://localhost:8080/"
        },
        "id": "T92re7jWmkge",
        "outputId": "d92b76bb-ba42-40a0-8b0c-73c2b59147b3"
      },
      "source": [
        "pip install chatterbot_corpus"
      ],
      "execution_count": null,
      "outputs": [
        {
          "output_type": "stream",
          "text": [
            "Collecting chatterbot_corpus\n",
            "\u001b[?25l  Downloading https://files.pythonhosted.org/packages/ed/19/f8b41daf36fe4b0f43e283a820362ffdb2c1128600ab4ee187e84262fa4d/chatterbot_corpus-1.2.0-py2.py3-none-any.whl (117kB)\n",
            "\r\u001b[K     |██▉                             | 10kB 13.0MB/s eta 0:00:01\r\u001b[K     |█████▋                          | 20kB 18.1MB/s eta 0:00:01\r\u001b[K     |████████▍                       | 30kB 11.1MB/s eta 0:00:01\r\u001b[K     |███████████▏                    | 40kB 9.0MB/s eta 0:00:01\r\u001b[K     |██████████████                  | 51kB 9.1MB/s eta 0:00:01\r\u001b[K     |████████████████▊               | 61kB 9.3MB/s eta 0:00:01\r\u001b[K     |███████████████████▋            | 71kB 9.5MB/s eta 0:00:01\r\u001b[K     |██████████████████████▍         | 81kB 9.4MB/s eta 0:00:01\r\u001b[K     |█████████████████████████▏      | 92kB 9.4MB/s eta 0:00:01\r\u001b[K     |████████████████████████████    | 102kB 9.6MB/s eta 0:00:01\r\u001b[K     |██████████████████████████████▊ | 112kB 9.6MB/s eta 0:00:01\r\u001b[K     |████████████████████████████████| 122kB 9.6MB/s \n",
            "\u001b[?25hRequirement already satisfied: PyYAML<4.0,>=3.12 in /usr/local/lib/python3.7/dist-packages (from chatterbot_corpus) (3.13)\n",
            "Installing collected packages: chatterbot-corpus\n",
            "Successfully installed chatterbot-corpus-1.2.0\n"
          ],
          "name": "stdout"
        }
      ]
    },
    {
      "cell_type": "code",
      "metadata": {
        "colab": {
          "base_uri": "https://localhost:8080/"
        },
        "id": "D10Zbd6lmmmz",
        "outputId": "23d28477-12af-4ad0-8eed-62ab4487f240"
      },
      "source": [
        "pip install functions"
      ],
      "execution_count": null,
      "outputs": [
        {
          "output_type": "stream",
          "text": [
            "Collecting functions\n",
            "  Downloading https://files.pythonhosted.org/packages/88/6f/7f35add5d405c189d9b9646d298bd50d5db6efdca08af77320b4b0626499/functions-0.7.0.tar.gz\n",
            "Building wheels for collected packages: functions\n",
            "  Building wheel for functions (setup.py) ... \u001b[?25l\u001b[?25hdone\n",
            "  Created wheel for functions: filename=functions-0.7.0-cp37-none-any.whl size=3065 sha256=967b66af54d728ae377249e7dcfac38429c05801c3f6618c73bb3be82ff42ae9\n",
            "  Stored in directory: /root/.cache/pip/wheels/f1/2e/9b/7907d32e006eaf4954ad1a976bff08867851394b26719a6d5f\n",
            "Successfully built functions\n",
            "Installing collected packages: functions\n",
            "Successfully installed functions-0.7.0\n"
          ],
          "name": "stdout"
        }
      ]
    },
    {
      "cell_type": "code",
      "metadata": {
        "id": "VK5uBWZ6mQeQ"
      },
      "source": [
        "# function to create the chatbot\n",
        "# we have the read_only to false so the chatbot learns from the user input as \n",
        "def create_bot(name):\n",
        "    from chatterbot import ChatBot\n",
        "    Bot = ChatBot(name = name,\n",
        "                  read_only = False,                  \n",
        "                  logic_adapters = [\"chatterbot.logic.BestMatch\"],                 \n",
        "                  storage_adapter = \"chatterbot.storage.SQLStorageAdapter\")\n",
        "    return Bot\n",
        "\n",
        "# function to train the bot with a variety of topics\n",
        "# the language we have chosen is english\n",
        "# we can train the bot for other languages as well\n",
        "def train_all_data(Bot):\n",
        "    from chatterbot.trainers import ChatterBotCorpusTrainer\n",
        "    corpus_trainer = ChatterBotCorpusTrainer(Bot)\n",
        "    corpus_trainer.train(\"chatterbot.corpus.english\")\n",
        "\n",
        "# function to train the bot with custom data\n",
        "# it uses ListTrainer to train data from lists \n",
        "def custom_train(Bot, conversation):\n",
        "    from chatterbot.trainers import ListTrainer\n",
        "    trainer = ListTrainer(Bot)\n",
        "    trainer.train(conversation)\n",
        "\n",
        "# function to start and take responses from the chatbot\n",
        "# the chatbot stays running unless a word is typed from the bye_list \n",
        "def start_chatbot(Bot):\n",
        "    print('\\033c')\n",
        "    print(\"Hello, I am Jordan. How can I help you\")\n",
        "    bye_list = [\"bye jordan\", \"bye\", \"good bye\"] \n",
        "    \n",
        "    while (True):\n",
        "        user_input = input(\"me: \")   \n",
        "        if user_input.lower() in bye_list:\n",
        "            print(\"Jordan: Good bye and have a Nice day\")\n",
        "            break\n",
        "        \n",
        "        response = Bot.get_response(user_input)\n",
        "        print(\"Jordan:\", response)"
      ],
      "execution_count": null,
      "outputs": []
    },
    {
      "cell_type": "code",
      "metadata": {
        "colab": {
          "base_uri": "https://localhost:8080/"
        },
        "id": "DMaX1mX2mrQ7",
        "outputId": "63ab36a1-71b1-45b4-ef39-8ce16fc7aa52"
      },
      "source": [
        "\n",
        "\n",
        "# create chatbot \n",
        "home_bot = create_bot('Jordan')\n",
        "\n",
        "# train all data\n",
        "train_all_data(home_bot)\n",
        "\n",
        "# check identity\n",
        "identity = input(\"State your identity please: \")\n",
        "\n",
        "# rules for responding to different identities\n",
        "if identity == \"Mark\":\n",
        "    print(\"Welcome, Mark. Happy to have you at home.\")\n",
        "\n",
        "elif identity == \"Jane\":\n",
        "    print(\"Mark is out right now, but you are welcome to the house.\")\n",
        "\n",
        "else:\n",
        "    print(\"Your access is denied here.\")\n",
        "    exit()\n",
        "\n",
        "# custom data\n",
        "house_owner = [\n",
        "    \"Who is the owner of this house?\",\n",
        "    \"Mark Nicholas is the owner of this house.\"\n",
        "]\n",
        "custom_train(home_bot, house_owner)\n",
        "\n",
        "print(\"------ Training custom data ------\")\n",
        "# write and train your custom data here IF the identity is Mark\n",
        "if identity == 'Mark':   \n",
        "    city_born = [\n",
        "        \"Where was I born?\",\n",
        "        \"Mark, you were born in Seattle.\"\n",
        "    ]\n",
        "\n",
        "    fav_book = [\n",
        "        \"What is my favourite book?\",\n",
        "        \"That is easy. Your favourite book is The Great Gatsby.\"\n",
        "    ]\n",
        "\n",
        "    fav_movie = [\n",
        "        \"What is my favourite movie?\",\n",
        "        \"You have watched Interstellar more times than I can count.\"\n",
        "    ]\n",
        "\n",
        "    fav_sports = [\n",
        "        \"What is my favourite sport?\",\n",
        "        \"You have always loved baseball.\"\n",
        "    ]\n",
        "    # train chatbot with your custom data\n",
        "    custom_train(home_bot, city_born)\n",
        "    custom_train(home_bot, fav_book)\n",
        "    custom_train(home_bot, fav_movie)\n",
        "    custom_train(home_bot, fav_sports)\n",
        "\n",
        "# start chatbot\n",
        "start_chatbot(home_bot)"
      ],
      "execution_count": null,
      "outputs": [
        {
          "output_type": "stream",
          "text": [
            "Training ai.yml: [####################] 100%\n",
            "Training botprofile.yml: [####################] 100%\n",
            "Training computers.yml: [####################] 100%\n",
            "Training conversations.yml: [####################] 100%\n",
            "Training emotion.yml: [####################] 100%\n",
            "Training food.yml: [####################] 100%\n",
            "Training gossip.yml: [####################] 100%\n",
            "Training greetings.yml: [####################] 100%\n",
            "Training health.yml: [####################] 100%\n",
            "Training history.yml: [####################] 100%\n",
            "Training humor.yml: [####################] 100%\n",
            "Training literature.yml: [####################] 100%\n",
            "Training money.yml: [####################] 100%\n",
            "Training movies.yml: [####################] 100%\n",
            "\n",
            "Training psychology.yml: [####################] 100%\n",
            "Training science.yml: [####################] 100%\n",
            "Training sports.yml: [####################] 100%\n",
            "Training trivia.yml: [####################] 100%\n",
            "Welcome, Mark. Happy to have you at home.\n",
            "List Trainer: [####################] 100%\n",
            "------ Training custom data ------\n",
            "List Trainer: [####################] 100%\n",
            "List Trainer: [####################] 100%\n",
            "List Trainer: [####################] 100%\n",
            "List Trainer: [####################] 100%\n",
            "\u001bc\n",
            "Hello, I am Jordan. How can I help you\n",
            "Jordan: Mark, you were born in Seattle.\n",
            "Jordan: You have watched Interstellar more times than I can count.\n",
            "Jordan: You have always loved baseball.\n"
          ],
          "name": "stdout"
        }
      ]
    }
  ]
}
{
  "nbformat": 4,
  "nbformat_minor": 0,
  "metadata": {
    "colab": {
      "name": "task1.ipynb",
      "provenance": []
    },
    "kernelspec": {
      "name": "python3",
      "display_name": "Python 3"
    },
    "language_info": {
      "name": "python"
    }
  },
  "cells": [
    {
      "cell_type": "code",
      "metadata": {
        "colab": {
          "base_uri": "https://localhost:8080/"
        },
        "id": "40H93ulmzALX",
        "outputId": "560e7c2c-a113-4a77-a870-605cd905fa28"
      },
      "source": [
        "import datetime  \n",
        "\n",
        "while (True):\n",
        "  ## get the name of the city from the user\n",
        "  city = input(\"Enter city: \")\n",
        "\n",
        "  ## get the current time \n",
        "  current_time = datetime.datetime.now()\n",
        "\n",
        "  ## save hours, minutes and second of the current time \n",
        "  ## in their corresponding variables \n",
        "  hour = current_time.hour\n",
        "  minute = current_time.minute\n",
        "  second = current_time.second\n",
        "  \n",
        "  ## check for case 1: the learner has typed Boston\n",
        "  if city == \"Boston\":\n",
        "    hour = hour - 4 \n",
        "\n",
        "  ## check for case 2: the learner has typed Tokyo\n",
        "  elif city == \"Tokyo\":\n",
        "    hour = hour + 9\n",
        "\n",
        "  ## check for case 3: the learner has typed Chicago\n",
        "  elif city == \"Chicago\":\n",
        "    hour = hour - 5 \n",
        "\n",
        "  ## check for case 4: the learner has typed Seattle\n",
        "  elif city == \"Seattle\":\n",
        "    hour = hour - 7\n",
        "  \n",
        "  ## add more cities here \n",
        "  \n",
        "  ## check for case 5: the learner has typed exit\n",
        "  elif city == \"exit\": \n",
        "    break\n",
        "\n",
        "  ## if all cases fail, show the time for GMT    \n",
        "  else:\n",
        "    print(city, \"is not added\")\n",
        "    city = \"GMT\" \n",
        "\n",
        "  # print the name of the city and the its corresponding time\n",
        "  print(city, str(hour) + \":\" + str(minute) + \":\" + str(second))\n"
      ],
      "execution_count": null,
      "outputs": [
        {
          "output_type": "stream",
          "text": [
            "Enter city: Boston\n",
            "Boston 11:45:22\n",
            "Enter city: Chicago\n",
            "Chicago 10:45:44\n",
            "Enter city: KW\n",
            "KW is not added\n",
            "GMT 15:46:11\n",
            "Enter city: exit\n"
          ],
          "name": "stdout"
        }
      ]
    },
    {
      "cell_type": "code",
      "metadata": {
        "id": "leW27U-2002X"
      },
      "source": [
        "##Task - adding cities to the world clock #"
      ],
      "execution_count": null,
      "outputs": []
    },
    {
      "cell_type": "code",
      "metadata": {
        "colab": {
          "base_uri": "https://localhost:8080/"
        },
        "id": "7KkpXNYr1Ukw",
        "outputId": "1c6d5a69-c79f-460c-d6e7-1b4258fbf51d"
      },
      "source": [
        "import datetime  \n",
        "\n",
        "while (True):\n",
        "  ## get the name of the city from the user\n",
        "  city = input(\"Enter city: \")\n",
        "\n",
        "  ## get the current time \n",
        "  current_time = datetime.datetime.now()\n",
        "\n",
        "  ## save hours, minutes and second of the current time \n",
        "  ## in their corresponding variables \n",
        "  hour = current_time.hour\n",
        "  minute = current_time.minute\n",
        "  second = current_time.second\n",
        "  \n",
        "  ## check for case 1: the learner has typed Boston\n",
        "  if city == \"Boston\":\n",
        "    hour = hour - 4 \n",
        "\n",
        "  ## check for case 2: the learner has typed Tokyo\n",
        "  elif city == \"Tokyo\":\n",
        "    hour = hour + 9\n",
        "\n",
        "  ## check for case 3: the learner has typed Chicago\n",
        "  elif city == \"Chicago\":\n",
        "    hour = hour - 5 \n",
        "\n",
        "  ## check for case 4: the learner has typed Seattle\n",
        "  elif city == \"Seattle\":\n",
        "    hour = hour - 7\n",
        "  \n",
        "  elif city == \"Kolkata\":\n",
        "    hour = hour + 5\n",
        "    minutes = minutes + 30\n",
        "\n",
        "  elif city == \"Karachi\":\n",
        "    hour = hour + 5\n",
        "\n",
        "  elif city == \"Cairo\":\n",
        "    hour = hour + 2\n",
        "  \n",
        "  elif city == \"Shanghai\":\n",
        "    hour = hour + 8\n",
        "  \n",
        "  ## check for case 5: the learner has typed exit\n",
        "  elif city == \"exit\": \n",
        "    break\n",
        "\n",
        "  ## if all cases fail, show the time for GMT    \n",
        "  else:\n",
        "    print(city, \"is not added\")\n",
        "    city = \"GMT\" \n",
        "\n",
        "  # print the name of the city and the its corresponding time\n",
        "  print(city, str(hour) + \":\" + str(minute) + \":\" + str(second))\n"
      ],
      "execution_count": null,
      "outputs": [
        {
          "output_type": "stream",
          "text": [
            "Enter city: Cairo\n",
            "Cairo 17:55:17\n",
            "Enter city: Shanghai\n",
            "Shanghai 23:55:26\n",
            "Enter city: exit\n"
          ],
          "name": "stdout"
        }
      ]
    },
    {
      "cell_type": "markdown",
      "metadata": {
        "id": "TfHTsT0V6jfm"
      },
      "source": [
        "# Ai Calcy"
      ]
    },
    {
      "cell_type": "code",
      "metadata": {
        "colab": {
          "base_uri": "https://localhost:8080/"
        },
        "id": "rNe5VPlu7Dk6",
        "outputId": "88f3df5e-cb11-4b1f-e61a-d8757966c96a"
      },
      "source": [
        "pip install chatterbot"
      ],
      "execution_count": null,
      "outputs": [
        {
          "output_type": "stream",
          "text": [
            "Collecting chatterbot\n",
            "\u001b[?25l  Downloading https://files.pythonhosted.org/packages/7c/21/85c2b114bd9dfabdd46ba58fc4519acdaed45d8c70898d40079e37a45e67/ChatterBot-1.0.8-py2.py3-none-any.whl (63kB)\n",
            "\r\u001b[K     |█████▏                          | 10kB 15.8MB/s eta 0:00:01\r\u001b[K     |██████████▎                     | 20kB 14.3MB/s eta 0:00:01\r\u001b[K     |███████████████▌                | 30kB 9.4MB/s eta 0:00:01\r\u001b[K     |████████████████████▋           | 40kB 7.9MB/s eta 0:00:01\r\u001b[K     |█████████████████████████▊      | 51kB 4.6MB/s eta 0:00:01\r\u001b[K     |███████████████████████████████ | 61kB 5.3MB/s eta 0:00:01\r\u001b[K     |████████████████████████████████| 71kB 3.3MB/s \n",
            "\u001b[?25hCollecting mathparse<0.2,>=0.1\n",
            "  Downloading https://files.pythonhosted.org/packages/c3/e5/4910fb85950cb960fcf3f5aabe1c8e55f5c9201788a1c1302b570a7e1f84/mathparse-0.1.2-py3-none-any.whl\n",
            "Collecting sqlalchemy<1.4,>=1.3\n",
            "\u001b[?25l  Downloading https://files.pythonhosted.org/packages/31/44/a86070dda790ce94cd7d9fb9281cd614c7d30850ed774ace9a84d0d5d491/SQLAlchemy-1.3.24-cp37-cp37m-manylinux2010_x86_64.whl (1.3MB)\n",
            "\u001b[K     |████████████████████████████████| 1.3MB 6.6MB/s \n",
            "\u001b[?25hRequirement already satisfied: pytz in /usr/local/lib/python3.7/dist-packages (from chatterbot) (2018.9)\n",
            "Requirement already satisfied: python-dateutil<2.9,>=2.8 in /usr/local/lib/python3.7/dist-packages (from chatterbot) (2.8.1)\n",
            "Requirement already satisfied: six>=1.5 in /usr/local/lib/python3.7/dist-packages (from python-dateutil<2.9,>=2.8->chatterbot) (1.15.0)\n",
            "Installing collected packages: mathparse, sqlalchemy, chatterbot\n",
            "  Found existing installation: SQLAlchemy 1.4.7\n",
            "    Uninstalling SQLAlchemy-1.4.7:\n",
            "      Successfully uninstalled SQLAlchemy-1.4.7\n",
            "Successfully installed chatterbot-1.0.8 mathparse-0.1.2 sqlalchemy-1.3.24\n"
          ],
          "name": "stdout"
        }
      ]
    },
    {
      "cell_type": "code",
      "metadata": {
        "colab": {
          "base_uri": "https://localhost:8080/"
        },
        "id": "E8ScnnyB6iuu",
        "outputId": "c4cf8172-eb50-45da-880a-d8dddac86aea"
      },
      "source": [
        "from chatterbot import ChatBot\n",
        "\n",
        "# naming the ChatBot calculator\n",
        "# using mathematical evaluation logic\n",
        "# the calculator AI will not learn with the user input\n",
        "Bot = ChatBot(name = 'Calculator',\n",
        "                read_only = True,                  \n",
        "                logic_adapters = [\"chatterbot.logic.MathematicalEvaluation\"],                 \n",
        "                storage_adapter = \"chatterbot.storage.SQLStorageAdapter\")\n",
        "    \n",
        "\n",
        "# clear the screen and start the calculator\n",
        "print('\\033c')\n",
        "print(\"Hello, I am a calculator. How may I help you?\")\n",
        "while (True):\n",
        "    # take the input from the user\n",
        "    user_input = input(\"me: \")\n",
        "    \n",
        "    # check if the user has typed quit to exit the prgram   \n",
        "    if user_input.lower() == 'quit':\n",
        "        print(\"Exiting\")\n",
        "        break\n",
        "\n",
        "    # otherwise, evaluate the user input\n",
        "    # print invalid input if the AI is unable to comprehend the input\n",
        "    try:\n",
        "        response = Bot.get_response(user_input)\n",
        "        print(\"Calculator:\", response)\n",
        "    except:\n",
        "        print(\"Calculator: Please enter valid input.\")"
      ],
      "execution_count": null,
      "outputs": [
        {
          "output_type": "stream",
          "text": [
            "\u001bc\n",
            "Hello, I am a calculator. How may I help you?\n",
            "me: What is two plus 24?\n",
            "Calculator: two plus 24 = 26\n",
            "me: What is two plus 5 times 20\n",
            "Calculator: two plus 5 times 20 = 102\n",
            "me: quit\n",
            "Exiting\n"
          ],
          "name": "stdout"
        }
      ]
    },
    {
      "cell_type": "code",
      "metadata": {
        "colab": {
          "base_uri": "https://localhost:8080/"
        },
        "id": "OQuJ3X-MCMwA",
        "outputId": "b5079be2-07c3-48d1-9280-bb75f8227666"
      },
      "source": [
        "pip install functions"
      ],
      "execution_count": null,
      "outputs": [
        {
          "output_type": "stream",
          "text": [
            "Collecting functions\n",
            "  Downloading https://files.pythonhosted.org/packages/88/6f/7f35add5d405c189d9b9646d298bd50d5db6efdca08af77320b4b0626499/functions-0.7.0.tar.gz\n",
            "Building wheels for collected packages: functions\n",
            "  Building wheel for functions (setup.py) ... \u001b[?25l\u001b[?25hdone\n",
            "  Created wheel for functions: filename=functions-0.7.0-cp37-none-any.whl size=3065 sha256=b43bf460ecfbbfbd0ebce71f66d060de8ea4c325bc083a5a9f9850f4851200c7\n",
            "  Stored in directory: /root/.cache/pip/wheels/f1/2e/9b/7907d32e006eaf4954ad1a976bff08867851394b26719a6d5f\n",
            "Successfully built functions\n",
            "Installing collected packages: functions\n",
            "Successfully installed functions-0.7.0\n"
          ],
          "name": "stdout"
        }
      ]
    },
    {
      "cell_type": "code",
      "metadata": {
        "id": "Q40Wotm_Eh15"
      },
      "source": [
        ""
      ],
      "execution_count": null,
      "outputs": []
    },
    {
      "cell_type": "code",
      "metadata": {
        "colab": {
          "base_uri": "https://localhost:8080/",
          "height": 128
        },
        "id": "rTiyGtUHBnpx",
        "outputId": "bac3d253-b383-4b14-98b7-4fe3c58ddebd"
      },
      "source": [
        ""
      ],
      "execution_count": null,
      "outputs": [
        {
          "output_type": "error",
          "ename": "SyntaxError",
          "evalue": "ignored",
          "traceback": [
            "\u001b[0;36m  File \u001b[0;32m\"/usr/local/lib/python3.7/dist-packages/functions.py\"\u001b[0;36m, line \u001b[0;32m68\u001b[0m\n\u001b[0;31m    nodes = tuple(map(lambda (k, v): process_node(inner, k, v),\u001b[0m\n\u001b[0m                             ^\u001b[0m\n\u001b[0;31mSyntaxError\u001b[0m\u001b[0;31m:\u001b[0m invalid syntax\n"
          ]
        }
      ]
    }
  ]
}